{
 "cells": [
  {
   "cell_type": "markdown",
   "metadata": {},
   "source": [
    "# Il livello di istruzione degli individui non conta nel determinare la prosperità nazionale"
   ]
  },
  {
   "cell_type": "markdown",
   "metadata": {},
   "source": [
    "Il progetto si focalizza sull'analisi della relazione tra istruzione e crescita\n",
    "economica di un paese (dove per crescita economica si intende la capacità di produzione, più\n",
    "in generale, di produrre ricchezza).\n",
    "\n",
    "Comunemente si è portati a pensare che una forza lavoro ben istruita è un fattore\n",
    "critico per lo sviluppo economico e ciò sarebbe dimostrabile dalla disparità tra il successo\n",
    "economico dei paesi dell’Asia orientale, famosi per i loro alti livelli di istruzione, e la\n",
    "stagnazione dei paesi dell’Africa subsahariana, che hanno livelli di istruzione tra i più bassi\n",
    "al mondo. Inoltre, l’ascesa dell’economia della conoscenza, in cui la conoscenza è diventata\n",
    "la principale fonte di ricchezza, ha reso l’istruzione, soprattutto quella universitaria, la vera\n",
    "chiave della prosperità.\n",
    "\n",
    "Tuttavia, sono scarse le prove che più istruzione renda un paese più ricco. Gran parte del\n",
    "\"know-how\" acquisito tramite l’istruzione in realtà non è determinante per l’incremento\n",
    "di produttività, anche se permette alla popolazione di avere una vita più soddisfacente e\n",
    "indipendente.\n",
    "\n",
    "Inoltre, l’opinione che il sorgere dell’economia basata sulla conoscenza abbia determinato\n",
    "un aumento significativo del peso dell’istruzione può risultare fuorviante. Infatti, anche\n",
    "quando si tratta di educazione universitaria (che si suppone ancora più importante in\n",
    "un’economia della conoscenza) non c’è una rapporto automatico tra sapere e crescita economica.\n",
    "\n",
    "\n",
    "Riassumendo, l’obiettivo del progetto è dimostrare che il livello di istruzione degli individui\n",
    "non conta nel determinare la prosperità nazionale."
   ]
  },
  {
   "cell_type": "markdown",
   "metadata": {},
   "source": [
    "## Creazione dataset"
   ]
  },
  {
   "cell_type": "markdown",
   "metadata": {},
   "source": [
    "### Durata media del periodo scolastico (Years of schooling)"
   ]
  },
  {
   "cell_type": "markdown",
   "metadata": {},
   "source": [
    "Dati ottenuti da [Our World in Data](https://ourworldindata.org/global-education#years-of-schooling)\n",
    "\n",
    "Dataset \"Average Total Years of Schooling for Adult Population (Lee-Lee (2016), Barro-Lee (2018) and UNDP (2018))\"\n",
    "\n",
    "The average number of years spent in school are another common measure of a population’s education level. It is a helpful measure, because it allows aggregation of attainment across education levels. This allows an analysis of the ‘stock of human capital’ that a population has at any given point in time.\n",
    "\n",
    "Average, or mean years of schooling of a population, are typically calculated from data on (i) the distribution of the population by age group and highest level of education attained in a given year; and (ii) the official duration of each level of education.\n",
    "\n",
    "Struttura: **Entity** (paese) - **Year** - **Average total years of schooling**\n",
    "\n",
    "E' presente un campionamento ogni 5 anni fino al 1990 poi uno ogni anno fino al 2017"
   ]
  },
  {
   "cell_type": "code",
   "execution_count": null,
   "metadata": {},
   "outputs": [],
   "source": []
  },
  {
   "cell_type": "markdown",
   "metadata": {},
   "source": [
    "### Tasso di alfabetizzazione"
   ]
  },
  {
   "cell_type": "markdown",
   "metadata": {},
   "source": [
    "Dati ottenuti da [Our World in Data](https://ourworldindata.org/global-education#how-is-literacy-distributed-across-the-globe)\n",
    "\n",
    "Tuttavia non sono presenti dati per il Nord America e per i paesi dell'Europa dell'ovest in quanto utilizzano altre prove per stimare il tasso di alfabetizzazione e quest'ultime non sono comparabili internazionalmente.\n",
    "\n",
    "Vanno controllati i dati mancanti (molti) per i paesi e in caso possibile andreppe effettuata un'interpolazione per generare i dati mancanti. \n",
    "\n",
    "**DA VALUTARE SE INSERIRE**"
   ]
  },
  {
   "cell_type": "code",
   "execution_count": null,
   "metadata": {},
   "outputs": [],
   "source": []
  }
 ],
 "metadata": {
  "kernelspec": {
   "display_name": "Python 3",
   "language": "python",
   "name": "python3"
  },
  "language_info": {
   "codemirror_mode": {
    "name": "ipython",
    "version": 3
   },
   "file_extension": ".py",
   "mimetype": "text/x-python",
   "name": "python",
   "nbconvert_exporter": "python",
   "pygments_lexer": "ipython3",
   "version": "3.7.4"
  }
 },
 "nbformat": 4,
 "nbformat_minor": 2
}
